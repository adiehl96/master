{
 "cells": [
  {
   "cell_type": "markdown",
   "id": "fe7b060e-c02b-4ed2-be4b-02ee96521692",
   "metadata": {},
   "source": [
    "# CSV to NPZ\n",
    "In this notebook I am gathering the data given by Max Hinne and converting it to a single file."
   ]
  },
  {
   "cell_type": "code",
   "execution_count": 1,
   "id": "89a814a3-c8c2-43bf-a524-8ce2fe6dc322",
   "metadata": {},
   "outputs": [
    {
     "name": "stdout",
     "output_type": "stream",
     "text": [
      "Python Version:  3.9.12 (main, Apr  5 2022, 01:53:17) \n",
      "[Clang 12.0.0 ] \n",
      "\n",
      "Numpy Version:  1.22.3\n"
     ]
    }
   ],
   "source": [
    "import csv, sys, os\n",
    "import numpy as np\n",
    "\n",
    "print(\"Python Version: \", sys.version, \"\\n\")\n",
    "print(\"Numpy Version: \",np.__version__)"
   ]
  },
  {
   "cell_type": "markdown",
   "id": "3763f9ef-10ec-4a59-a05a-4451f49763d6",
   "metadata": {},
   "source": [
    "## SC & ID\n",
    "The following two cells describe how I extract the values and the filenames (IDs) of the csv files supplied by Max Hinne."
   ]
  },
  {
   "cell_type": "code",
   "execution_count": 2,
   "id": "08b7abad-f65b-4b02-81be-0ab8d1561589",
   "metadata": {},
   "outputs": [],
   "source": [
    "def hinne_csv_to_graph(name):\n",
    "    with open(f\"{name}\", newline=\"\") as csvfile:\n",
    "        reader = csv.reader(csvfile, delimiter=\",\")\n",
    "        read = np.array([item for row in reader for item in row]).astype(np.int64)\n",
    "        read = read.reshape((int(np.sqrt(len(read))), int(np.sqrt(len(read)))))\n",
    "    return read"
   ]
  },
  {
   "cell_type": "code",
   "execution_count": 3,
   "id": "427b499b-4d46-47b1-94ec-89da76780ee9",
   "metadata": {},
   "outputs": [
    {
     "name": "stdout",
     "output_type": "stream",
     "text": [
      "(30, 164, 164)\n",
      "(30,)\n"
     ]
    }
   ],
   "source": [
    "combined = []\n",
    "ids = []\n",
    "for file in sorted(os.listdir(\"./HCP/anatomical\")):\n",
    "    if file.endswith(\".csv\"):\n",
    "        path = os.path.join(\"./HCP/anatomical\", file)\n",
    "        ids.append(path.split(\"/\")[3].split(\"_\")[0])\n",
    "        arr = hinne_csv_to_graph(path)\n",
    "        combined.append(arr)\n",
    "streamline_counts = np.array(combined)\n",
    "ids = np.array(ids)\n",
    "print(streamline_counts.shape)\n",
    "print(ids.shape)"
   ]
  },
  {
   "cell_type": "markdown",
   "id": "2f48e44a-f8e5-4f8d-944b-065f5b104d56",
   "metadata": {},
   "source": [
    "## Labels\n",
    "In the following cell I am loading the ordered list of labels supplied by Max Hinne."
   ]
  },
  {
   "cell_type": "code",
   "execution_count": 4,
   "id": "4cc5037f-8aa0-4e12-bc68-188a1ffb4d48",
   "metadata": {},
   "outputs": [
    {
     "data": {
      "text/plain": [
       "(164,)"
      ]
     },
     "execution_count": 4,
     "metadata": {},
     "output_type": "execute_result"
    }
   ],
   "source": [
    "labels = np.load(\"HCP/labels.npz\")[\"labels\"]\n",
    "labels.shape"
   ]
  },
  {
   "cell_type": "markdown",
   "id": "ed84f19c-4028-4d4d-8323-74b614069a5e",
   "metadata": {},
   "source": [
    "## Component Positions\n",
    "In the following cell I am extracting the brain component locations from the file structural_labels.csv.\n",
    "\n",
    "# Warning!!!\n",
    "As I have just gotten to know, these values do not actually represent the correct locations. Do not plot them."
   ]
  },
  {
   "cell_type": "code",
   "execution_count": 5,
   "id": "b1ac4c22-d918-4eef-aa0e-7f8abce13b2f",
   "metadata": {},
   "outputs": [
    {
     "data": {
      "text/plain": [
       "(164, 3)"
      ]
     },
     "execution_count": 5,
     "metadata": {},
     "output_type": "execute_result"
    }
   ],
   "source": [
    "def structural_positions_to_arr():\n",
    "    with open(\"HCP/structural_labels.csv\", newline=\"\") as csvfile:\n",
    "        lines = csvfile.readlines()\n",
    "        component_positions = []\n",
    "        for line in lines:\n",
    "            # print(line.split()[4])\n",
    "            coordinates = [line.split()[2], line.split()[3], line.split()[4]]\n",
    "            component_positions.append(coordinates)\n",
    "        component_positions = np.array(component_positions).astype(np.uint8)\n",
    "    return component_positions\n",
    "structural_positions_to_arr().shape"
   ]
  },
  {
   "cell_type": "markdown",
   "id": "ddafc28d-5427-47ee-ab3d-b9ed8afba58f",
   "metadata": {},
   "source": [
    "## Save to File\n",
    "In this cell I am saving the 4 arrays to one .npz file."
   ]
  },
  {
   "cell_type": "code",
   "execution_count": 6,
   "id": "b8f65314-367e-4f61-bb54-b77b93bc2752",
   "metadata": {},
   "outputs": [],
   "source": [
    "np.savez_compressed(\"HCP/data_hinne.npz\", ID = ids, SC=streamline_counts, Labels = labels, Pos = structural_positions_to_arr())"
   ]
  },
  {
   "cell_type": "markdown",
   "id": "37d1f847-1de3-4ebf-badf-d32b664dee6c",
   "metadata": {},
   "source": [
    "## Test the file\n",
    "In the following cells I am loading the .npz file and check the shape of the different arrays as a sanity check."
   ]
  },
  {
   "cell_type": "code",
   "execution_count": 7,
   "id": "56d29d84-e46a-4d44-b9cd-982997fd4f50",
   "metadata": {},
   "outputs": [],
   "source": [
    "test = np.load(\"HCP/data_hinne.npz\")"
   ]
  },
  {
   "cell_type": "code",
   "execution_count": 8,
   "id": "c6159b78-cde3-4822-afbb-7bb1d1df9bb3",
   "metadata": {},
   "outputs": [
    {
     "name": "stdout",
     "output_type": "stream",
     "text": [
      "(30, 164, 164)\n",
      "(164,)\n",
      "(164, 3)\n",
      "(30,)\n"
     ]
    }
   ],
   "source": [
    "print(test[\"SC\"].shape)\n",
    "print(test[\"Labels\"].shape)\n",
    "print(test[\"Pos\"].shape)\n",
    "print(test[\"ID\"].shape)"
   ]
  }
 ],
 "metadata": {
  "kernelspec": {
   "display_name": "Python 3 (ipykernel)",
   "language": "python",
   "name": "python3"
  },
  "language_info": {
   "codemirror_mode": {
    "name": "ipython",
    "version": 3
   },
   "file_extension": ".py",
   "mimetype": "text/x-python",
   "name": "python",
   "nbconvert_exporter": "python",
   "pygments_lexer": "ipython3",
   "version": "3.9.12"
  }
 },
 "nbformat": 4,
 "nbformat_minor": 5
}
