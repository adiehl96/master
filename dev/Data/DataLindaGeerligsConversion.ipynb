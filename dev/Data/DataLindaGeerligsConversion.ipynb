{
 "cells": [
  {
   "cell_type": "markdown",
   "id": "98ea5417-3de2-4054-a679-b1920c4a09b3",
   "metadata": {},
   "source": [
    "# Mat to NPZ conversion\n",
    "The conversion of the files supplied by Linda Geerligs happened using the code below."
   ]
  },
  {
   "cell_type": "code",
   "execution_count": 1,
   "id": "0e4b8f11-0687-490a-b581-24d5371abd4c",
   "metadata": {},
   "outputs": [
    {
     "name": "stdout",
     "output_type": "stream",
     "text": [
      "Scipy Version:  1.8.0\n",
      "Numpy Version:  1.22.3\n"
     ]
    }
   ],
   "source": [
    "import scipy.io\n",
    "import numpy as np\n",
    "print(\"Scipy Version: \", scipy.__version__)\n",
    "print(\"Numpy Version: \", np.__version__)"
   ]
  },
  {
   "cell_type": "code",
   "execution_count": 2,
   "id": "cd12c725-71a6-4d51-9388-f176b8acf9ab",
   "metadata": {},
   "outputs": [
    {
     "name": "stdout",
     "output_type": "stream",
     "text": [
      "dict_keys(['__header__', '__version__', '__globals__', 'ID', 'SC', 'age', 'motion'])\n"
     ]
    }
   ],
   "source": [
    "mat = scipy.io.loadmat('DataLindaGeerligs/data_Arne.mat')\n",
    "print(mat.keys())"
   ]
  },
  {
   "cell_type": "code",
   "execution_count": 3,
   "id": "79d786e6-b563-4b66-93e8-d48b5d30f57f",
   "metadata": {},
   "outputs": [],
   "source": [
    "np.savez_compressed(\"DataLindaGeerligs/data_Arne.npz\", ID=mat[\"ID\"], SC=mat[\"SC\"], age=mat[\"age\"], motion=mat[\"motion\"])"
   ]
  }
 ],
 "metadata": {
  "kernelspec": {
   "display_name": "Python 3 (ipykernel)",
   "language": "python",
   "name": "python3"
  },
  "language_info": {
   "codemirror_mode": {
    "name": "ipython",
    "version": 3
   },
   "file_extension": ".py",
   "mimetype": "text/x-python",
   "name": "python",
   "nbconvert_exporter": "python",
   "pygments_lexer": "ipython3",
   "version": "3.9.12"
  }
 },
 "nbformat": 4,
 "nbformat_minor": 5
}
