{
  "nbformat": 4,
  "nbformat_minor": 0,
  "metadata": {
    "colab": {
      "name": "NumpyNoMean.ipynb",
      "provenance": [],
      "collapsed_sections": []
    },
    "kernelspec": {
      "name": "python3",
      "display_name": "Python 3"
    },
    "language_info": {
      "name": "python"
    }
  },
  "cells": [
    {
      "cell_type": "markdown",
      "source": [
        "# Elliptical Slice Sampling without mean shifting in Numpy\n",
        "This code is largely based on the code found [here](https://gist.github.com/adiehl96/d586d13ac47d7f2a3e98142b2c436ef5), which is based on the youtube video by Viking Penguin found [here](https://www.youtube.com/watch?v=HfzyuD9_gmk). However, any mention of the mean in the sampling method was removed, as it's not necessarily part of it.\n",
        "\n",
        "# Assumptions\n",
        "* The sampler assumes that the prior is a gaussian (This can be seen in the sampling step where we have to sample from a multivariate gaussian distribution).\n",
        "* The sampler assumes a prior with a zero mean, as the mean is not mentioned in this implementation.\n"
      ],
      "metadata": {
        "id": "7MBC-s_Yborx"
      }
    },
    {
      "cell_type": "code",
      "execution_count": 1,
      "metadata": {
        "colab": {
          "base_uri": "https://localhost:8080/",
          "height": 409
        },
        "id": "qIRWJGHdUlCJ",
        "outputId": "89b9f1a4-e454-4b4f-cb8e-e562470f71ab"
      },
      "outputs": [
        {
          "output_type": "stream",
          "name": "stderr",
          "text": [
            "100%|██████████| 10999/10999 [00:17<00:00, 625.01it/s]\n"
          ]
        },
        {
          "output_type": "stream",
          "name": "stdout",
          "text": [
            "sampled_mean 2.033596274437791 true_mean 2.0\n"
          ]
        },
        {
          "output_type": "display_data",
          "data": {
            "text/plain": [
              "<Figure size 1224x432 with 1 Axes>"
            ],
            "image/png": "[encoded data removed]"
          },
          "metadata": {
            "needs_background": "light"
          }
        }
      ],
      "source": [
        "import numpy as np\n",
        "import matplotlib.pyplot as plt\n",
        "from scipy.stats import norm\n",
        "from tqdm import tqdm\n",
        "\n",
        "np.random.seed(8)\n",
        "\n",
        "\n",
        "class EllipticalSliceSampler:\n",
        "  \"\"\"Elliptical Slice Sampler Class\n",
        "  \n",
        "  The elliptical slice sampling algorithm is a Markov chain Monte Carlo\n",
        "  approach to sampling from posterior distributions that consist of an\n",
        "  arbitrary likelihood times a multivariate normal prior. The elliptical\n",
        "  slice sampling algorithm is advantageous because it is conceptually simple \n",
        "  and easy to implement and because it has no free parameters.\n",
        "\n",
        "  The algorithm operates by randomly selecting a candidate from an ellipse\n",
        "  defined by two vectors, one of which is assumed to be drawn from the target\n",
        "  posterior and another that is an auxiliary random sample of a zero-mean\n",
        "  multivariate normal. The algorithm iteratively shrinks the range from which\n",
        "  candidates can be drawn until a candidate proposal is accepted.\n",
        "  \"\"\"\n",
        "  def __init__(self, covariance, log_likelihood_func):\n",
        "    \"\"\"Initialize the parameters of the elliptical slice sampler object.\n",
        "\n",
        "    Parameters:\n",
        "      mean (numpy array): A mean vector of a multivariate Gaussian.\n",
        "      covariance (numpy array): A two-dimensional positive-definite\n",
        "        covariance matrix of a multivariate Gaussian.\n",
        "      log_likelihood_func (function): A log-likelihood function that maps\n",
        "      a given sample (as its exclusive input) to a real number\n",
        "      reflecting the log-likelihood of the observational data under\n",
        "      the input parameter.\n",
        "    \"\"\"\n",
        "    self.covariance = covariance\n",
        "    self.log_likelihood_func = log_likelihood_func\n",
        "\n",
        "  def __sample(self, f):\n",
        "    \"\"\"Internal Function that draws an individual sample according to the\n",
        "    elliptical slice sampling routine. The input is drawn from the target\n",
        "    distribution and the output is as well.\n",
        "\n",
        "    Parameters:\n",
        "      f (numpy array): A vector representing a parameter state that has\n",
        "      been sampled from the target posterior distribution. Note that\n",
        "      a sufficently high 'burnin' parameter can be leveraged to\n",
        "      achieve a good mixin for this purpose.\n",
        "    \"\"\"\n",
        "    # Choose the ellipse for this sampling iteration.\n",
        "    nu = np.random.multivariate_normal(np.zeros(self.covariance.shape[:1]), self.covariance)\n",
        "    # print(\"nu\", nu, nu.shape)\n",
        "    # Set the candidate acceptance treshold.\n",
        "    log_y = self.log_likelihood_func(f) + np.log(np.random.uniform())\n",
        "    # Set the bracket for selecting candidates on the ellipse.\n",
        "    theta = np.random.uniform(0., 2.*np.pi)\n",
        "    theta_min, theta_max = theta - 2.*np.pi, theta\n",
        "\n",
        "    # Iterates until a candidate is selected.\n",
        "    while True:\n",
        "      # Generates a point on the ellipse defined by 'nu' and the input. We\n",
        "      # also compute the log-likelihood of the candidate and compare to\n",
        "      # our threshold.\n",
        "      fp = (f)*np.cos(theta) + nu*np.sin(theta)\n",
        "      log_fp = self.log_likelihood_func(fp)\n",
        "      if log_fp > log_y:\n",
        "        return fp\n",
        "      else:\n",
        "        # If the candidate is not selected, shrink the bracket and\n",
        "        # generate a new 'theta', which will yield a new candidate\n",
        "        # point on the ellipse.\n",
        "        if theta < 0.:\n",
        "          theta_min = theta\n",
        "        else:\n",
        "          theta_max = theta\n",
        "        theta = np.random.uniform(theta_min, theta_max)\n",
        "      \n",
        "  def sample(self, n_samples, current_state, burnin=1000):\n",
        "    \"\"\"This function is user-facing and is used to generate a specified\n",
        "    number of samples from the target distribution using elliptical slice\n",
        "    sampling. The 'burnin' parameter defines how many iterations should be\n",
        "    performed (and excluded) to achieve convergence to the target\n",
        "    distribution.\n",
        "\n",
        "    Parameters:\n",
        "      n_samples (int): The number of samples to produce from this sampling\n",
        "        routine.\n",
        "      burnin (int, optional): The number of burnin iterations to perform.\n",
        "        This is necessary to achieve samples that are representative of\n",
        "        the true posterior and correctly characterize uncertainty.\n",
        "    \"\"\"\n",
        "    # Compute the total number of samples.\n",
        "    total_samples = n_samples + burnin\n",
        "    # Initialize a matrix to store the samples. The first sample is chosen\n",
        "    # to be a draw from the multivariate normal prior.\n",
        "    samples = np.zeros((total_samples, self.covariance.shape[0]))\n",
        "    samples[0] = current_state\n",
        "    for i in tqdm(range(1, total_samples)):\n",
        "      samples[i] = self.__sample(samples[i-1])\n",
        "    return samples[burnin:]\n",
        "\n",
        "def main():\n",
        "  # Set the mean and variance of two Gaussian densities. The first of these will be\n",
        "  # regarded as the prior, while the second will represent the likelihood.\n",
        "  # Fortunately, the product of two Gaussian densities can be regarded as an\n",
        "  # Unnormalized Gaussian density with closed-form expressions for the mean\n",
        "  # and variance.\n",
        "  prior_mean = 0.\n",
        "  prior_variance = 1.\n",
        "  likelihood_mean = 10.\n",
        "  likelihood_variance = 2.\n",
        "  posterior_mean = ((prior_variance**-2)*prior_mean + (likelihood_variance**-2)*likelihood_mean) / (prior_variance**-2 + likelihood_variance**-2)\n",
        "  posterior_variance = np.sqrt((prior_variance**2 * likelihood_variance**2) / (prior_variance**2 + likelihood_variance**2))\n",
        "\n",
        "  # define the log-likelihood function.\n",
        "  def log_likelihood_func(f):\n",
        "    return norm.logpdf(f, likelihood_mean, likelihood_variance)\n",
        "\n",
        "  # Now perform sampling from the \"posterior\" using elliptical slice sampling.\n",
        "  n_samples = 10000\n",
        "  sampler = EllipticalSliceSampler(np.diag(np.array([prior_variance**2, ])), \n",
        "                                   log_likelihood_func)\n",
        "  samples = sampler.sample(n_samples, \n",
        "                           current_state=np.random.multivariate_normal(mean=np.zeros(1), cov=np.array([[prior_variance ]])),\n",
        "                           burnin=1000)\n",
        "  print(\"sampled_mean\", np.mean(samples), \"true_mean\", posterior_mean)\n",
        "\n",
        "  # Visualize the samples and compare to the true \"posterior\"\n",
        "  r = np.linspace(-5., 14., num=1000)\n",
        "  plt.figure(figsize=(17,6))\n",
        "  plt.hist(np.random.normal(prior_mean, prior_variance, size=200000), bins=30, density=True, label = \"Samples of the prior\")\n",
        "  plt.hist(np.random.normal(likelihood_mean, likelihood_variance, size=200000), bins=30, density=True, label = \"Samples of the likelihood\")\n",
        "\n",
        "  plt.hist(samples, bins=30, density=True, label = \"Samples of the posterior\")\n",
        "  plt.plot(r, norm.pdf(r, posterior_mean, posterior_variance), label = \"True posterior pdf\")\n",
        "  plt.grid()\n",
        "  plt.legend()\n",
        "  plt.show()\n",
        "\n",
        "main()"
      ]
    }
  ]
}